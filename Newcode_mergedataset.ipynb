{
  "nbformat": 4,
  "nbformat_minor": 0,
  "metadata": {
    "colab": {
      "provenance": []
    },
    "kernelspec": {
      "name": "python3",
      "display_name": "Python 3"
    },
    "language_info": {
      "name": "python"
    }
  },
  "cells": [
    {
      "cell_type": "code",
      "execution_count": null,
      "metadata": {
        "colab": {
          "base_uri": "https://localhost:8080/"
        },
        "id": "9Vcmy_wR3mHA",
        "outputId": "31dd726a-2482-4840-c9f2-8b1d458235c0"
      },
      "outputs": [
        {
          "output_type": "stream",
          "name": "stdout",
          "text": [
            "Merged successfully without duplicates!\n"
          ]
        }
      ],
      "source": [
        "import pandas as pd\n",
        "\n",
        "# Load the two CSV files\n",
        "df1 = pd.read_csv(\"WELFake_Dataset.csv\")\n",
        "df2 = pd.read_csv(\"output.csv\")\n",
        "\n",
        "df1 = df1.drop_duplicates(subset=\"title\")\n",
        "df2 = df2.drop_duplicates(subset=\"title\")\n",
        "\n",
        "# Merge by rows (axis=0) and remove duplicates\n",
        "merged_df = pd.concat([df1, df2], axis=0, ignore_index=True).drop_duplicates()\n",
        "\n",
        "# Merge by columns (axis=1) and remove duplicate column names\n",
        "merged_df_col = pd.concat([df1.set_index(\"title\"), df2.set_index(\"title\")], axis=1)  # Change \"ID\" to a common key\n",
        "\n",
        "# Save the merged file without duplicates\n",
        "merged_df.to_csv(\"merged_file_no_duplicates.csv\", index=False)\n",
        "merged_df_col.to_csv(\"merged_by_columns_no_duplicates.csv\")\n",
        "\n",
        "print(\"Merged successfully without duplicates!\")"
      ]
    },
    {
      "cell_type": "code",
      "source": [
        "print(df1[\"title\"].duplicated().sum())  # Number of duplicates in df1\n",
        "print(df2[\"title\"].duplicated().sum())"
      ],
      "metadata": {
        "colab": {
          "base_uri": "https://localhost:8080/"
        },
        "id": "OccfBOn5GdmE",
        "outputId": "f6d324cc-5577-4634-8876-89f84a973c8b"
      },
      "execution_count": null,
      "outputs": [
        {
          "output_type": "stream",
          "name": "stdout",
          "text": [
            "9786\n",
            "2851\n"
          ]
        }
      ]
    }
  ]
}
